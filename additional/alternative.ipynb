{
 "cells": [
  {
   "cell_type": "markdown",
   "metadata": {},
   "source": [
    "## Get Data"
   ]
  },
  {
   "cell_type": "code",
   "execution_count": 1,
   "metadata": {},
   "outputs": [],
   "source": [
    "import requests\n",
    "from bs4 import BeautifulSoup\n",
    "from collections import defaultdict, Counter\n",
    "import random"
   ]
  },
  {
   "cell_type": "code",
   "execution_count": 2,
   "metadata": {},
   "outputs": [],
   "source": [
    "r = requests.get('https://www.thespruceeats.com/global-words-for-coffee-765840')\n",
    "\n",
    "soup = BeautifulSoup(r.text, 'html.parser')\n",
    "div = soup.find(id='mntl-chop_1-0--chop-content')\n",
    "tags = div.find_all('li')\n",
    "\n",
    "words = {}\n",
    "for t in tags:\n",
    "    if t.strong:\n",
    "        try:\n",
    "            text = t.em.text\n",
    "        except:\n",
    "            text = t.text.split(\":\")[1]\n",
    "        words[t.strong.text] = text.strip().lower()"
   ]
  },
  {
   "cell_type": "code",
   "execution_count": 3,
   "metadata": {},
   "outputs": [
    {
     "data": {
      "text/plain": [
       "{'Urdu': 'coffee',\n",
       " 'Welsh': 'coffi',\n",
       " 'Afrikaans': 'koffie',\n",
       " 'Dutch': 'koffie',\n",
       " 'Esperanto': 'kafo',\n",
       " 'German': 'der kaffee',\n",
       " 'Finnish': 'kahvi',\n",
       " 'Hindi': 'kofi',\n",
       " 'Russian': 'kofe',\n",
       " 'Italian': 'caffe',\n",
       " 'French': 'café',\n",
       " 'Spanish': 'el café',\n",
       " 'Bengali/Bangla': 'café',\n",
       " 'Catalan': 'cafe',\n",
       " 'Galician': 'café',\n",
       " 'Irish': 'caife',\n",
       " 'Portuguese': 'café',\n",
       " 'Romanian': 'cafea',\n",
       " 'Thai': 'kafea',\n",
       " 'Vietnamese': 'ca phe',\n",
       " 'Albanian': 'kafe',\n",
       " 'Basque': 'kafea',\n",
       " 'Bulgarian': 'kafe',\n",
       " 'Creole': 'kafe',\n",
       " 'Danish': 'kaffe',\n",
       " 'Greek': 'kafés',\n",
       " 'Haitian Creole': 'kafe',\n",
       " 'Hebrew': 'ka-feh',\n",
       " 'Macedonian': 'kafe',\n",
       " 'Maltese': 'kafe',\n",
       " 'Norwegian': 'kaffe',\n",
       " 'Swedish': 'kaffe',\n",
       " 'Wolof': 'kafe',\n",
       " 'Icelandic': 'kaffii',\n",
       " 'Latvian': 'kafija',\n",
       " 'Luxembourgish': 'kaffi',\n",
       " 'Chinese (Cantonese)': 'ga feh',\n",
       " 'Chinese (Mandarin)': 'kafei',\n",
       " 'Taiwanese': 'ka fei',\n",
       " 'Ethiopian Amharic': 'buna',\n",
       " 'Ethiopian Semitic': 'bunna',\n",
       " 'Arabic': 'qahioa',\n",
       " 'Turkish': 'kahveh',\n",
       " 'Belarusian': 'kava',\n",
       " 'Croatian': 'kava',\n",
       " 'Czech': 'kava',\n",
       " 'Lithuanian': 'kava',\n",
       " 'Polish': 'kava',\n",
       " 'Slovakian': 'kava',\n",
       " 'Ukrainian': 'kavy',\n",
       " 'Georgian': 'qava',\n",
       " 'Hungarian': 'kavé',\n",
       " 'Serbian': 'kafa',\n",
       " 'Slovenian': 'kave',\n",
       " 'Yiddish': 'kave',\n",
       " 'Filipino/Tagalog': 'kape',\n",
       " 'Hawaiian': 'kope',\n",
       " 'Indonesian': 'kopi',\n",
       " 'Korean': 'keopi',\n",
       " 'Malay': 'kawah',\n",
       " 'Sinhalese (Sri Lanka)': 'kopi',\n",
       " 'Tamil (Sri Lanka)': 'kapi-kottai',\n",
       " 'Armenian': 'surch',\n",
       " 'Estonian': 'kohv',\n",
       " 'Japanese': 'koohii',\n",
       " 'Ojibwe': 'muckadaymashkikiwabu',\n",
       " 'Persian': 'qéhvé',\n",
       " 'Swahili:': 'kahawa',\n",
       " 'Zulu': 'ikhofi'}"
      ]
     },
     "execution_count": 3,
     "metadata": {},
     "output_type": "execute_result"
    }
   ],
   "source": [
    "words"
   ]
  },
  {
   "cell_type": "markdown",
   "metadata": {},
   "source": [
    "## PFCG"
   ]
  },
  {
   "cell_type": "code",
   "execution_count": 4,
   "metadata": {},
   "outputs": [],
   "source": [
    "PCFG = defaultdict(list)\n",
    "for word in words.values():\n",
    "    # S -> first char\n",
    "    PCFG['S'].append(word[0])\n",
    "    # middle char -> middle char\n",
    "    for i in range(1, len(word)):\n",
    "        PCFG[word[i-1]].append(word[i])\n",
    "    # final char -> T\n",
    "    PCFG[word[-1]].append(\"T\")"
   ]
  },
  {
   "cell_type": "code",
   "execution_count": 5,
   "metadata": {},
   "outputs": [],
   "source": [
    "def build_word(pcfg):\n",
    "    word = \"\"\n",
    "    char = random.choice(pcfg['S'])\n",
    "    while char != 'T':\n",
    "        word += char\n",
    "        char = random.choice(pcfg[char])\n",
    "    return word"
   ]
  },
  {
   "cell_type": "code",
   "execution_count": 6,
   "metadata": {},
   "outputs": [
    {
     "data": {
      "text/plain": [
       "['cohvapi',\n",
       " 'kofe',\n",
       " 'kahva',\n",
       " 'kawa-ffeh',\n",
       " 'kafi',\n",
       " 'kaffea fé',\n",
       " 'kavafi',\n",
       " 'kaymur ph',\n",
       " 'khvavav',\n",
       " 'sur fiffe',\n",
       " 'kahikeashopi',\n",
       " 'khophafea']"
      ]
     },
     "execution_count": 6,
     "metadata": {},
     "output_type": "execute_result"
    }
   ],
   "source": [
    "[build_word(PCFG) for _ in range(12)]"
   ]
  },
  {
   "cell_type": "code",
   "execution_count": 7,
   "metadata": {},
   "outputs": [
    {
     "data": {
      "text/plain": [
       "{'bu',\n",
       " 'bunnnai',\n",
       " 'burca',\n",
       " 'ca',\n",
       " 'caffijah',\n",
       " 'caffé',\n",
       " 'cafi',\n",
       " 'cafikafave',\n",
       " 'cai',\n",
       " 'cavy',\n",
       " 'cka',\n",
       " 'cofe',\n",
       " 'cohe',\n",
       " 'coofee',\n",
       " 'da',\n",
       " 'e',\n",
       " 'ei',\n",
       " 'gafikavi',\n",
       " 'i',\n",
       " 'ka',\n",
       " 'ka cafe',\n",
       " 'ka-fé',\n",
       " 'kadafé',\n",
       " 'kafeafa',\n",
       " 'kafeafe',\n",
       " 'kafehi',\n",
       " 'kaffeercaveavavafi',\n",
       " 'kafffi',\n",
       " 'kaffé',\n",
       " 'kafi',\n",
       " 'kafifel piwa',\n",
       " 'kah',\n",
       " 'kahkapi',\n",
       " 'kai',\n",
       " 'kapi',\n",
       " 'kapiija-ffel ka',\n",
       " 'kava ca',\n",
       " 'kava fiwa',\n",
       " 'kavabucay',\n",
       " 'kavafay',\n",
       " 'kavafi',\n",
       " 'kavava',\n",
       " 'kavawa',\n",
       " 'kavei',\n",
       " 'kavésunafafehvava',\n",
       " 'kay',\n",
       " 'ke',\n",
       " 'ki',\n",
       " 'ki-kofeohota',\n",
       " 'kijahee',\n",
       " 'ko',\n",
       " 'koffikabunavafiii',\n",
       " 'kofijavi',\n",
       " 'kohe',\n",
       " 'kohvafe',\n",
       " 'koohi',\n",
       " 'kophiee',\n",
       " 'ma',\n",
       " 'qa',\n",
       " 'qafe',\n",
       " 'qafé',\n",
       " 'qé',\n",
       " 's',\n",
       " 'sunna'}"
      ]
     },
     "execution_count": 7,
     "metadata": {},
     "output_type": "execute_result"
    }
   ],
   "source": [
    "# unique words\n",
    "some_words = [build_word(PCFG) for _ in range(100)]\n",
    "set(some_words) - set(words.values())"
   ]
  },
  {
   "cell_type": "code",
   "execution_count": null,
   "metadata": {},
   "outputs": [],
   "source": []
  }
 ],
 "metadata": {
  "kernelspec": {
   "display_name": "Python 3",
   "language": "python",
   "name": "python3"
  },
  "language_info": {
   "codemirror_mode": {
    "name": "ipython",
    "version": 3
   },
   "file_extension": ".py",
   "mimetype": "text/x-python",
   "name": "python",
   "nbconvert_exporter": "python",
   "pygments_lexer": "ipython3",
   "version": "3.7.6"
  }
 },
 "nbformat": 4,
 "nbformat_minor": 4
}
