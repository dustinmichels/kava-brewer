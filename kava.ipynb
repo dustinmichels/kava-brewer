{
 "cells": [
  {
   "cell_type": "markdown",
   "metadata": {},
   "source": [
    "# Kava Brewer\n",
    "\n",
    "Creating a PCFCG (probabalistic context-free coffee grammar).\n",
    "\n",
    "<img src=\"coffee.jpg\" width=\"150\"/>"
   ]
  },
  {
   "cell_type": "code",
   "execution_count": 1,
   "metadata": {},
   "outputs": [],
   "source": [
    "import random\n",
    "import unicodedata as ud\n",
    "from collections import Counter, defaultdict\n",
    "\n",
    "import pandas as pd"
   ]
  },
  {
   "cell_type": "markdown",
   "metadata": {},
   "source": [
    "## Get Data"
   ]
  },
  {
   "cell_type": "code",
   "execution_count": 2,
   "metadata": {},
   "outputs": [
    {
     "data": {
      "text/html": [
       "<div>\n",
       "<style scoped>\n",
       "    .dataframe tbody tr th:only-of-type {\n",
       "        vertical-align: middle;\n",
       "    }\n",
       "\n",
       "    .dataframe tbody tr th {\n",
       "        vertical-align: top;\n",
       "    }\n",
       "\n",
       "    .dataframe thead th {\n",
       "        text-align: right;\n",
       "    }\n",
       "</style>\n",
       "<table border=\"1\" class=\"dataframe\">\n",
       "  <thead>\n",
       "    <tr style=\"text-align: right;\">\n",
       "      <th></th>\n",
       "      <th>language</th>\n",
       "      <th>word</th>\n",
       "      <th>region</th>\n",
       "    </tr>\n",
       "  </thead>\n",
       "  <tbody>\n",
       "    <tr>\n",
       "      <th>0</th>\n",
       "      <td>Albanian</td>\n",
       "      <td>kafe</td>\n",
       "      <td>European</td>\n",
       "    </tr>\n",
       "    <tr>\n",
       "      <th>1</th>\n",
       "      <td>Basque</td>\n",
       "      <td>kafea</td>\n",
       "      <td>European</td>\n",
       "    </tr>\n",
       "    <tr>\n",
       "      <th>2</th>\n",
       "      <td>Belarusian</td>\n",
       "      <td>кава</td>\n",
       "      <td>European</td>\n",
       "    </tr>\n",
       "    <tr>\n",
       "      <th>3</th>\n",
       "      <td>Bosnian</td>\n",
       "      <td>kafa</td>\n",
       "      <td>European</td>\n",
       "    </tr>\n",
       "    <tr>\n",
       "      <th>4</th>\n",
       "      <td>Bulgarian</td>\n",
       "      <td>кафе</td>\n",
       "      <td>European</td>\n",
       "    </tr>\n",
       "  </tbody>\n",
       "</table>\n",
       "</div>"
      ],
      "text/plain": [
       "     language   word    region\n",
       "0    Albanian   kafe  European\n",
       "1      Basque  kafea  European\n",
       "2  Belarusian   кава  European\n",
       "3     Bosnian   kafa  European\n",
       "4   Bulgarian   кафе  European"
      ]
     },
     "execution_count": 2,
     "metadata": {},
     "output_type": "execute_result"
    }
   ],
   "source": [
    "df = pd.read_csv('words.csv')\n",
    "df.head()"
   ]
  },
  {
   "cell_type": "markdown",
   "metadata": {},
   "source": [
    "### Pre-Preprocessing\n",
    "\n",
    "- Filter out non-latin alphabets\n",
    "- Capture words in brackets, eg \"кави [kavy]\""
   ]
  },
  {
   "cell_type": "code",
   "execution_count": 3,
   "metadata": {},
   "outputs": [],
   "source": [
    "def is_latin(word):\n",
    "    return all(['LATIN' in ud.name(c) for c in word])\n",
    "\n",
    "words = []\n",
    "for word in list(df['word']):\n",
    "    for w in word.split(' ['):\n",
    "        w = w.strip(']').lower()\n",
    "        words.append(w)\n",
    "\n",
    "words = [w for w in words if is_latin(w)]"
   ]
  },
  {
   "cell_type": "code",
   "execution_count": 4,
   "metadata": {},
   "outputs": [
    {
     "data": {
      "text/plain": [
       "['kafe',\n",
       " 'kafea',\n",
       " 'kafa',\n",
       " 'cafè',\n",
       " 'caffè',\n",
       " 'kava',\n",
       " 'káva',\n",
       " 'kaffe',\n",
       " 'koffie',\n",
       " 'kohv']"
      ]
     },
     "execution_count": 4,
     "metadata": {},
     "output_type": "execute_result"
    }
   ],
   "source": [
    "words[:10]"
   ]
  },
  {
   "cell_type": "markdown",
   "metadata": {},
   "source": [
    "## PCFG"
   ]
  },
  {
   "cell_type": "markdown",
   "metadata": {},
   "source": [
    "### Learn the Grammar"
   ]
  },
  {
   "cell_type": "code",
   "execution_count": 5,
   "metadata": {},
   "outputs": [],
   "source": [
    "def build_pcfg(words):\n",
    "    \"\"\"Learn the rules of making coffee words\"\"\"\n",
    "    pcfg = defaultdict(list)\n",
    "    for word in words:\n",
    "        # add start and end token to list of characters\n",
    "        tokens = [\"<S>\"] + list(word) + [\"<T>\"]\n",
    "        # link each character to subsequent character\n",
    "        for i in range(1, len(tokens)):\n",
    "            pcfg[tokens[i-1]].append(tokens[i])\n",
    "    return pcfg"
   ]
  },
  {
   "cell_type": "code",
   "execution_count": 6,
   "metadata": {},
   "outputs": [],
   "source": [
    "def display_sample(pcfg, num_keys=5, num_values=5):\n",
    "    \"\"\"Create a mini dictionary, with a few keys and truncated list of values.\"\"\"\n",
    "    sample = {}\n",
    "    for key in list(pcfg.keys())[:num_keys]:\n",
    "        sample[key] = pcfg[key][:num_values] + [\"...\"]\n",
    "    return sample"
   ]
  },
  {
   "cell_type": "code",
   "execution_count": 7,
   "metadata": {},
   "outputs": [
    {
     "data": {
      "text/plain": [
       "{'<S>': ['k', 'k', 'k', 'c', 'c', '...'],\n",
       " 'k': ['a', 'a', 'a', 'a', 'á', '...'],\n",
       " 'a': ['f', 'f', '<T>', 'f', '<T>', '...'],\n",
       " 'f': ['e', 'e', 'a', 'è', 'f', '...'],\n",
       " 'e': ['<T>', 'a', '<T>', '<T>', '<T>', '...']}"
      ]
     },
     "execution_count": 7,
     "metadata": {},
     "output_type": "execute_result"
    }
   ],
   "source": [
    "# create grammar\n",
    "PCFG = build_pcfg(words)\n",
    "\n",
    "# display sample\n",
    "display_sample(PCFG)"
   ]
  },
  {
   "cell_type": "markdown",
   "metadata": {},
   "source": [
    "- The start token `<S>` is linked to the tokens it can produce, and they link to the tokens they produce, and so on until you reach the terminal token `<T>`.\n",
    "- The number of times a token shows up in the list corresponds to its probability of being selected. "
   ]
  },
  {
   "cell_type": "markdown",
   "metadata": {},
   "source": [
    "### Generate some coffee words"
   ]
  },
  {
   "cell_type": "code",
   "execution_count": 8,
   "metadata": {},
   "outputs": [],
   "source": [
    "def build_word(pcfg):\n",
    "    \"\"\"\n",
    "    Follow the grammar to randomly select tokens\n",
    "    until you reach the reach an end token\n",
    "    \"\"\"\n",
    "    word = \"\"\n",
    "    char = random.choice(pcfg['<S>'])\n",
    "    while char != '<T>':\n",
    "        word += char\n",
    "        char = random.choice(pcfg[char])\n",
    "    return word"
   ]
  },
  {
   "cell_type": "code",
   "execution_count": 9,
   "metadata": {},
   "outputs": [
    {
     "data": {
      "text/plain": [
       "['kavarus',\n",
       " 'kofé',\n",
       " 'qafe',\n",
       " 'kahvi',\n",
       " 'kohvafa',\n",
       " 'kahafè',\n",
       " 'i',\n",
       " 'qe',\n",
       " 'kaffi',\n",
       " 'cafe',\n",
       " 'kafè',\n",
       " 'cawawafēidh']"
      ]
     },
     "execution_count": 9,
     "metadata": {},
     "output_type": "execute_result"
    }
   ],
   "source": [
    "# some words\n",
    "[build_word(PCFG) for _ in range(12)]"
   ]
  },
  {
   "cell_type": "markdown",
   "metadata": {},
   "source": [
    "Here are some words you can generate from the grammar!"
   ]
  },
  {
   "cell_type": "code",
   "execution_count": 10,
   "metadata": {},
   "outputs": [
    {
     "data": {
      "text/plain": [
       "['qahvy',\n",
       " 'ie',\n",
       " 'qeafé',\n",
       " 'ke',\n",
       " 'caie',\n",
       " 'kafavé',\n",
       " 'cav',\n",
       " 'ije',\n",
       " 'ka',\n",
       " 'kohvə',\n",
       " 'kāfi',\n",
       " 'koffēi']"
      ]
     },
     "execution_count": 10,
     "metadata": {},
     "output_type": "execute_result"
    }
   ],
   "source": [
    "# novel words\n",
    "some_words = [build_word(PCFG) for _ in range(100)]\n",
    "novel_words = list(set(some_words) - set(words))\n",
    "random.sample(novel_words, 12)"
   ]
  },
  {
   "cell_type": "markdown",
   "metadata": {},
   "source": [
    "Here are some novel coffee words, not in the original list."
   ]
  },
  {
   "cell_type": "code",
   "execution_count": null,
   "metadata": {},
   "outputs": [],
   "source": []
  },
  {
   "cell_type": "markdown",
   "metadata": {},
   "source": []
  },
  {
   "cell_type": "markdown",
   "metadata": {},
   "source": [
    "## Extensions"
   ]
  },
  {
   "cell_type": "markdown",
   "metadata": {},
   "source": [
    "### PCFG with Bigrams\n",
    "\n",
    "Repeat process but with bigrams instead of unigrams."
   ]
  },
  {
   "cell_type": "code",
   "execution_count": 11,
   "metadata": {},
   "outputs": [],
   "source": [
    "def build_pcfg_bigrams(words):\n",
    "    \"\"\"Learn the rules of making coffee words\"\"\"\n",
    "    pcfg_bigrams = defaultdict(list)\n",
    "    for word in words:\n",
    "        # <S> -> first chars\n",
    "        pcfg_bigrams['<S>'].append(word[0:2])\n",
    "        # middle chars -> middle chars\n",
    "        for i in range(2, len(word), 2):\n",
    "            pcfg_bigrams[word[i-2:i]].append(word[i:i+2])\n",
    "        # final chars -> <T>\n",
    "        pcfg_bigrams[word[i:i+2]].append(\"<T>\")"
   ]
  },
  {
   "cell_type": "code",
   "execution_count": 12,
   "metadata": {},
   "outputs": [],
   "source": [
    "PCFG_bigrams = build_pcfg(words)"
   ]
  },
  {
   "cell_type": "code",
   "execution_count": 13,
   "metadata": {},
   "outputs": [
    {
     "data": {
      "text/plain": [
       "{'<S>': ['k', 'k', 'k', 'c', 'c', '...'],\n",
       " 'k': ['a', 'a', 'a', 'a', 'á', '...'],\n",
       " 'a': ['f', 'f', '<T>', 'f', '<T>', '...'],\n",
       " 'f': ['e', 'e', 'a', 'è', 'f', '...'],\n",
       " 'e': ['<T>', 'a', '<T>', '<T>', '<T>', '...']}"
      ]
     },
     "execution_count": 13,
     "metadata": {},
     "output_type": "execute_result"
    }
   ],
   "source": [
    "display_sample(PCFG_bigrams)"
   ]
  },
  {
   "cell_type": "code",
   "execution_count": 14,
   "metadata": {},
   "outputs": [
    {
     "data": {
      "text/plain": [
       "['kofe',\n",
       " 'karus',\n",
       " 'kafffjafè',\n",
       " 'wafike',\n",
       " 'kāffffulua',\n",
       " 'kafị',\n",
       " 'ieafika',\n",
       " 'khvy',\n",
       " 'ca',\n",
       " 'kofje',\n",
       " 'kafe',\n",
       " 'kofè']"
      ]
     },
     "execution_count": 14,
     "metadata": {},
     "output_type": "execute_result"
    }
   ],
   "source": [
    "[build_word(PCFG_bigrams) for _ in range(12)]"
   ]
  },
  {
   "cell_type": "markdown",
   "metadata": {},
   "source": [
    "Some sample words using bigram approach."
   ]
  },
  {
   "cell_type": "code",
   "execution_count": 15,
   "metadata": {},
   "outputs": [
    {
     "data": {
      "text/plain": [
       "['kahoffe',\n",
       " 'i',\n",
       " 'wafēi',\n",
       " 'kawhwawhvavy',\n",
       " 'cafega',\n",
       " 'kohva',\n",
       " 'kofị',\n",
       " 'qeheavafè',\n",
       " 'kahe',\n",
       " 'caffopea',\n",
       " 'kaffofe',\n",
       " 'caffi']"
      ]
     },
     "execution_count": 15,
     "metadata": {},
     "output_type": "execute_result"
    }
   ],
   "source": [
    "# novel words\n",
    "some_words = [build_word(PCFG_bigrams) for _ in range(100)]\n",
    "novel_words = list(set(some_words) - set(words))\n",
    "random.sample(novel_words, 12)"
   ]
  },
  {
   "cell_type": "markdown",
   "metadata": {},
   "source": [
    "Some novel words using bigram approach."
   ]
  },
  {
   "cell_type": "markdown",
   "metadata": {},
   "source": [
    "### Mixed together\n",
    "\n",
    "Merge together the unigram dict and the bigram dict. "
   ]
  },
  {
   "cell_type": "code",
   "execution_count": 16,
   "metadata": {},
   "outputs": [],
   "source": [
    "def merge_dicts(a, b):\n",
    "    new = {k: v for k, v in a.items()}\n",
    "    for k in b.keys():\n",
    "        if k in a:\n",
    "            new[k] = a[k] + b[k]\n",
    "        else:\n",
    "            new[k] = b[k]\n",
    "    return new"
   ]
  },
  {
   "cell_type": "code",
   "execution_count": 17,
   "metadata": {},
   "outputs": [],
   "source": [
    "all_pcfg = merge_dicts(PCFG, PCFG_bigrams)"
   ]
  },
  {
   "cell_type": "code",
   "execution_count": 18,
   "metadata": {},
   "outputs": [
    {
     "data": {
      "text/plain": [
       "['kọfi',\n",
       " 'cafe',\n",
       " 'ka',\n",
       " 'kope',\n",
       " 'khvé',\n",
       " 'kofè',\n",
       " 'kavawafe',\n",
       " 'ka',\n",
       " 'ka',\n",
       " 'ka',\n",
       " 'kafe',\n",
       " 'koffe']"
      ]
     },
     "execution_count": 18,
     "metadata": {},
     "output_type": "execute_result"
    }
   ],
   "source": [
    "[build_word(all_pcfg) for _ in range(12)]"
   ]
  },
  {
   "cell_type": "code",
   "execution_count": null,
   "metadata": {},
   "outputs": [],
   "source": []
  }
 ],
 "metadata": {
  "kernelspec": {
   "display_name": "Python 3",
   "language": "python",
   "name": "python3"
  },
  "language_info": {
   "codemirror_mode": {
    "name": "ipython",
    "version": 3
   },
   "file_extension": ".py",
   "mimetype": "text/x-python",
   "name": "python",
   "nbconvert_exporter": "python",
   "pygments_lexer": "ipython3",
   "version": "3.8.5"
  }
 },
 "nbformat": 4,
 "nbformat_minor": 4
}
