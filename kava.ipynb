{
 "cells": [
  {
   "cell_type": "code",
   "execution_count": 1,
   "metadata": {},
   "outputs": [],
   "source": [
    "from collections import defaultdict, Counter\n",
    "import random\n",
    "import pandas as pd\n",
    "\n",
    "import unicodedata as ud"
   ]
  },
  {
   "cell_type": "markdown",
   "metadata": {},
   "source": [
    "## Get Data"
   ]
  },
  {
   "cell_type": "code",
   "execution_count": 2,
   "metadata": {},
   "outputs": [
    {
     "data": {
      "text/html": [
       "<div>\n",
       "<style scoped>\n",
       "    .dataframe tbody tr th:only-of-type {\n",
       "        vertical-align: middle;\n",
       "    }\n",
       "\n",
       "    .dataframe tbody tr th {\n",
       "        vertical-align: top;\n",
       "    }\n",
       "\n",
       "    .dataframe thead th {\n",
       "        text-align: right;\n",
       "    }\n",
       "</style>\n",
       "<table border=\"1\" class=\"dataframe\">\n",
       "  <thead>\n",
       "    <tr style=\"text-align: right;\">\n",
       "      <th></th>\n",
       "      <th>language</th>\n",
       "      <th>word</th>\n",
       "      <th>region</th>\n",
       "    </tr>\n",
       "  </thead>\n",
       "  <tbody>\n",
       "    <tr>\n",
       "      <th>0</th>\n",
       "      <td>Albanian</td>\n",
       "      <td>kafe</td>\n",
       "      <td>European</td>\n",
       "    </tr>\n",
       "    <tr>\n",
       "      <th>1</th>\n",
       "      <td>Basque</td>\n",
       "      <td>kafea</td>\n",
       "      <td>European</td>\n",
       "    </tr>\n",
       "    <tr>\n",
       "      <th>2</th>\n",
       "      <td>Belarusian</td>\n",
       "      <td>кава</td>\n",
       "      <td>European</td>\n",
       "    </tr>\n",
       "    <tr>\n",
       "      <th>3</th>\n",
       "      <td>Bosnian</td>\n",
       "      <td>kafa</td>\n",
       "      <td>European</td>\n",
       "    </tr>\n",
       "    <tr>\n",
       "      <th>4</th>\n",
       "      <td>Bulgarian</td>\n",
       "      <td>кафе</td>\n",
       "      <td>European</td>\n",
       "    </tr>\n",
       "  </tbody>\n",
       "</table>\n",
       "</div>"
      ],
      "text/plain": [
       "     language   word    region\n",
       "0    Albanian   kafe  European\n",
       "1      Basque  kafea  European\n",
       "2  Belarusian   кава  European\n",
       "3     Bosnian   kafa  European\n",
       "4   Bulgarian   кафе  European"
      ]
     },
     "execution_count": 2,
     "metadata": {},
     "output_type": "execute_result"
    }
   ],
   "source": [
    "df = pd.read_csv('words.csv')\n",
    "df.head()"
   ]
  },
  {
   "cell_type": "markdown",
   "metadata": {},
   "source": [
    "#### Pre-Preprocess\n",
    "\n",
    "- Filter out non-latin alphabets\n",
    "- Capture words in brackets, eg \"кави [kavy]\""
   ]
  },
  {
   "cell_type": "code",
   "execution_count": 3,
   "metadata": {},
   "outputs": [],
   "source": [
    "def is_latin(word):\n",
    "    return all(['LATIN' in ud.name(c) for c in word])\n",
    "\n",
    "words = []\n",
    "for word in list(df['word']):\n",
    "    for w in word.split(' ['):\n",
    "        w = w.strip(']').lower()\n",
    "        words.append(w)\n",
    "\n",
    "words = [w for w in words if is_latin(w)]"
   ]
  },
  {
   "cell_type": "markdown",
   "metadata": {},
   "source": [
    "## PCFG"
   ]
  },
  {
   "cell_type": "code",
   "execution_count": 4,
   "metadata": {},
   "outputs": [],
   "source": [
    "PCFG = defaultdict(list)\n",
    "for word in words:\n",
    "    # S -> first char\n",
    "    PCFG['S'].append(word[0])\n",
    "    # middle char -> middle char\n",
    "    for i in range(1, len(word)):\n",
    "        PCFG[word[i-1]].append(word[i])\n",
    "    # final char -> T\n",
    "    PCFG[word[-1]].append(\"T\")"
   ]
  },
  {
   "cell_type": "code",
   "execution_count": 5,
   "metadata": {},
   "outputs": [],
   "source": [
    "def build_word(pcfg):\n",
    "    word = \"\"\n",
    "    char = random.choice(pcfg['S'])\n",
    "    while char != 'T':\n",
    "        word += char\n",
    "        char = random.choice(pcfg[char])\n",
    "    return word"
   ]
  },
  {
   "cell_type": "code",
   "execution_count": 6,
   "metadata": {},
   "outputs": [
    {
     "data": {
      "text/plain": [
       "['kai',\n",
       " 'khvapung',\n",
       " 'kahee',\n",
       " 'qe',\n",
       " 'kofe',\n",
       " 'ca',\n",
       " 'cofie',\n",
       " 'kofé',\n",
       " 'kofị',\n",
       " 'kofopije']"
      ]
     },
     "execution_count": 6,
     "metadata": {},
     "output_type": "execute_result"
    }
   ],
   "source": [
    "[build_word(PCFG) for _ in range(10)]"
   ]
  },
  {
   "cell_type": "code",
   "execution_count": 7,
   "metadata": {},
   "outputs": [
    {
     "data": {
      "text/plain": [
       "{'ca',\n",
       " 'cafa',\n",
       " 'cafe',\n",
       " 'cafeafé',\n",
       " 'cafi',\n",
       " 'cahwa',\n",
       " 'cai',\n",
       " 'cava',\n",
       " 'cavafi',\n",
       " 'cawafi',\n",
       " 'cofé',\n",
       " 'cope',\n",
       " 'copi',\n",
       " 'i',\n",
       " 'ka',\n",
       " 'kafee',\n",
       " 'kafeg',\n",
       " 'kafehafé',\n",
       " 'kaffafe',\n",
       " 'kaffè',\n",
       " 'kafi',\n",
       " 'kafie',\n",
       " 'kafijafé',\n",
       " 'kafikọfikafe',\n",
       " 'kafé',\n",
       " 'kafēi',\n",
       " 'kafēifeehung',\n",
       " 'kafị',\n",
       " 'kahafegahwawahwai',\n",
       " 'kahofi',\n",
       " 'kai',\n",
       " 'karus',\n",
       " 'kavé',\n",
       " 'kawahvaffi',\n",
       " 'khopeofe',\n",
       " 'ko',\n",
       " 'kofaffe',\n",
       " 'kofeehvə',\n",
       " 'kofiffi',\n",
       " 'kofijea',\n",
       " 'kofè',\n",
       " 'kofé',\n",
       " 'kofés',\n",
       " 'kohofofa',\n",
       " 'kohvafi',\n",
       " 'kávə',\n",
       " 'kāfe',\n",
       " 'kāffffe',\n",
       " 'kọfja',\n",
       " 'kọfé',\n",
       " 'qafjafé',\n",
       " 'qafé',\n",
       " 'qe',\n",
       " 'qee',\n",
       " 'wafị',\n",
       " 'we'}"
      ]
     },
     "execution_count": 7,
     "metadata": {},
     "output_type": "execute_result"
    }
   ],
   "source": [
    "# unique words\n",
    "some_words = [build_word(PCFG) for _ in range(100)]\n",
    "set(some_words) - set(words)"
   ]
  },
  {
   "cell_type": "code",
   "execution_count": null,
   "metadata": {},
   "outputs": [],
   "source": []
  },
  {
   "cell_type": "markdown",
   "metadata": {},
   "source": [
    "## PCFG with Bigrams"
   ]
  },
  {
   "cell_type": "code",
   "execution_count": 8,
   "metadata": {},
   "outputs": [],
   "source": [
    "PCFG_bigrams = defaultdict(list)\n",
    "for word in words:\n",
    "    # S -> first chars\n",
    "    PCFG_bigrams['S'].append(word[0:2])\n",
    "    # middle chars -> middle chars\n",
    "    for i in range(2, len(word), 2):\n",
    "        j = i-2\n",
    "        PCFG_bigrams[word[j:j+2]].append(word[i:i+2])\n",
    "    # final chars -> T\n",
    "    PCFG_bigrams[word[i:i+2]].append(\"T\")"
   ]
  },
  {
   "cell_type": "code",
   "execution_count": 9,
   "metadata": {},
   "outputs": [
    {
     "data": {
      "text/plain": [
       "['kofe',\n",
       " 'kopi',\n",
       " 'kape',\n",
       " 'kaffè',\n",
       " 'kafa',\n",
       " 'qahve',\n",
       " 'kaffi',\n",
       " 'kafe',\n",
       " 'kofija',\n",
       " 'ikawa',\n",
       " 'kafo',\n",
       " 'kafe']"
      ]
     },
     "execution_count": 9,
     "metadata": {},
     "output_type": "execute_result"
    }
   ],
   "source": [
    "[build_word(PCFG_bigrams) for _ in range(12)]"
   ]
  },
  {
   "cell_type": "code",
   "execution_count": 10,
   "metadata": {},
   "outputs": [
    {
     "data": {
      "text/plain": [
       "{'cafe',\n",
       " 'caffi',\n",
       " 'cafés',\n",
       " 'cofa',\n",
       " 'coffe',\n",
       " 'ikhofija',\n",
       " 'kafaidh',\n",
       " 'kaffie',\n",
       " 'kaffè',\n",
       " 'kahawarung',\n",
       " 'kahv',\n",
       " 'kahva',\n",
       " 'kawarung',\n",
       " 'kofea',\n",
       " 'kofeega',\n",
       " 'koffe',\n",
       " 'koffi',\n",
       " 'koffè',\n",
       " 'kohve',\n",
       " 'wa'}"
      ]
     },
     "execution_count": 10,
     "metadata": {},
     "output_type": "execute_result"
    }
   ],
   "source": [
    "# novel words\n",
    "some_words = [build_word(PCFG_bigrams) for _ in range(100)]\n",
    "set(some_words) - set(words)"
   ]
  },
  {
   "cell_type": "code",
   "execution_count": null,
   "metadata": {},
   "outputs": [],
   "source": []
  },
  {
   "cell_type": "markdown",
   "metadata": {},
   "source": [
    "## Mixed together"
   ]
  },
  {
   "cell_type": "code",
   "execution_count": 11,
   "metadata": {},
   "outputs": [],
   "source": [
    "def merge_dicts(a, b):\n",
    "    new = {k: v for k, v in a.items()}\n",
    "    for k in b.keys():\n",
    "        if k in a:\n",
    "            new[k] = a[k] + b[k]\n",
    "        else:\n",
    "            new[k] = b[k]\n",
    "    return new"
   ]
  },
  {
   "cell_type": "code",
   "execution_count": 12,
   "metadata": {},
   "outputs": [],
   "source": [
    "all_pcfg = merge_dicts(PCFG, PCFG_bigrams)"
   ]
  },
  {
   "cell_type": "code",
   "execution_count": 13,
   "metadata": {},
   "outputs": [
    {
     "data": {
      "text/plain": [
       "['qəhva',\n",
       " 'qahua',\n",
       " 'ca',\n",
       " 'kafè',\n",
       " 'qahua',\n",
       " 'kafè',\n",
       " 'ka',\n",
       " 'co',\n",
       " 'ka',\n",
       " 'qa',\n",
       " 'ka',\n",
       " 'kopi']"
      ]
     },
     "execution_count": 13,
     "metadata": {},
     "output_type": "execute_result"
    }
   ],
   "source": [
    "[build_word(all_pcfg) for _ in range(12)]"
   ]
  },
  {
   "cell_type": "code",
   "execution_count": null,
   "metadata": {},
   "outputs": [],
   "source": []
  }
 ],
 "metadata": {
  "kernelspec": {
   "display_name": "Python 3",
   "language": "python",
   "name": "python3"
  },
  "language_info": {
   "codemirror_mode": {
    "name": "ipython",
    "version": 3
   },
   "file_extension": ".py",
   "mimetype": "text/x-python",
   "name": "python",
   "nbconvert_exporter": "python",
   "pygments_lexer": "ipython3",
   "version": "3.7.6"
  }
 },
 "nbformat": 4,
 "nbformat_minor": 4
}
